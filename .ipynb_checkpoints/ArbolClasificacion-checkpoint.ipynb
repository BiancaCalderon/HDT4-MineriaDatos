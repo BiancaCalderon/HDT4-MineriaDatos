{
 "cells": [
  {
   "cell_type": "markdown",
   "id": "40b6f6aa-c025-4617-9c1a-00751513d75b",
   "metadata": {},
   "source": [
    "# Arbol de Clasificación "
   ]
  },
  {
   "cell_type": "markdown",
   "id": "f89e2195-40b2-4990-88b2-3226d61f7c89",
   "metadata": {},
   "source": [
    "7. Elabore un árbol de clasificación utilizando la variable respuesta que creó en el punto\n",
    "anterior. Explique los resultados a los que llega. Muestre el modelo gráficamente. Recuerde\n",
    "que la nueva variable respuesta es categórica, pero se generó a partir de los precios de las\n",
    "casas, no incluya el precio de venta para entrenar el modelo."
   ]
  },
  {
   "cell_type": "code",
   "execution_count": 69,
   "id": "01ed182f-11fd-4a3d-b3da-94f8f9403a53",
   "metadata": {},
   "outputs": [],
   "source": [
    "import pandas as pd\n",
    "import matplotlib.pyplot as plt\n",
    "import seaborn as sns\n",
    "from sklearn.tree import DecisionTreeClassifier\n",
    "from sklearn.model_selection import train_test_split\n",
    "from sklearn.metrics import classification_report, confusion_matrix, ConfusionMatrixDisplay, accuracy_score\n",
    "from sklearn.compose import make_column_selector as selector\n",
    "from sklearn import metrics\n",
    "from sklearn.tree import export_graphviz\n",
    "from io import StringIO\n",
    "from IPython.display import Image\n",
    "import pydotplus\n",
    "\n",
    "from sklearn.model_selection import cross_val_score, cross_val_predict\n",
    "from sklearn.metrics import accuracy_score\n",
    "\n",
    "from sklearn.ensemble import RandomForestClassifier\n"
   ]
  },
  {
   "cell_type": "code",
   "execution_count": null,
   "id": "e2e46296-a351-4fe1-8976-c789e9cd75ae",
   "metadata": {},
   "outputs": [],
   "source": [
    "df = pd.read_csv(\"train.csv\")\n",
    "\n",
    "numerical_columns = ['SalePrice' ,'OverallQual', 'GrLivArea', 'GarageCars', 'TotalBsmtSF', '1stFlrSF', 'YearBuilt', 'KitchenAbvGr', 'Fireplaces']\n",
    "df = df[numerical_columns]\n",
    "\n",
    "df.describe()"
   ]
  },
  {
   "cell_type": "code",
   "execution_count": null,
   "id": "27705dd7-edea-4306-ac01-10d4e95e7a80",
   "metadata": {},
   "outputs": [],
   "source": [
    "# Histograma de SalePrice\n",
    "df['SalePrice'].hist(bins=50)\n",
    "plt.xlabel('SalePrice')\n",
    "plt.ylabel('Frecuencia')\n",
    "plt.title('Histograma de SalePrice')\n",
    "plt.show()\n",
    "\n",
    "# Boxplot de SalePrice\n",
    "df.boxplot(column='SalePrice')\n",
    "plt.title('Boxplot de SalePrice')\n",
    "plt.ylabel('Valor')\n",
    "plt.show()"
   ]
  },
  {
   "cell_type": "code",
   "execution_count": null,
   "id": "e8a89a40-5af4-46b3-90bf-0e3eb3611d93",
   "metadata": {},
   "outputs": [],
   "source": [
    "per1 = df['SalePrice'].quantile(0.25)\n",
    "per2 = df['SalePrice'].quantile(0.75)\n",
    "\n",
    "def price_tag(price: float) -> str:\n",
    "    if price <= per1:\n",
    "        return \"Económica\"\n",
    "    elif price <= per2:\n",
    "        return \"Intermedia\"\n",
    "    else:\n",
    "        return \"Cara\"\n",
    "\n",
    "df['CategoriaPrecio'] = df['SalePrice'].apply(price_tag)\n",
    "print(df['CategoriaPrecio'].value_counts())\n"
   ]
  },
  {
   "cell_type": "code",
   "execution_count": null,
   "id": "febce88e-7245-4469-9100-11e8058ec03c",
   "metadata": {},
   "outputs": [],
   "source": [
    "df.groupby('CategoriaPrecio')['SalePrice'].describe()\n"
   ]
  },
  {
   "cell_type": "code",
   "execution_count": null,
   "id": "c20f9fee-087c-4dc6-ab08-170e8dd84aba",
   "metadata": {},
   "outputs": [],
   "source": [
    "sns.countplot(x='CategoriaPrecio', data=df)\n",
    "plt.title(\"Distribución de registros por categoría de precio\")\n",
    "plt.xlabel(\"Categoría de Precio\")\n",
    "plt.ylabel(\"Conteo\")\n",
    "plt.show()"
   ]
  },
  {
   "cell_type": "code",
   "execution_count": null,
   "id": "c96755b3-9a48-4c43-bec2-99fb04ee7fbd",
   "metadata": {},
   "outputs": [],
   "source": [
    "sns.boxplot(x='CategoriaPrecio', y='SalePrice', data=df)\n",
    "plt.title(\"Boxplot de SalePrice por categoría de precio\")\n",
    "plt.xlabel(\"Categoría de Precio\")\n",
    "plt.ylabel(\"SalePrice\")\n",
    "plt.show()"
   ]
  },
  {
   "cell_type": "markdown",
   "id": "8bb28e61-c28b-4aa6-8697-a32eef5f8df8",
   "metadata": {},
   "source": [
    "Se decidio usar los cuartiles de 25 y 75 como puntos de corte porque así se refleja de forma más clara la dispersión natural de los precios y se tienen en cuenta los valores atípicos de la cola alta de la distribución. Con esta aproximación, la categoría “Económica” recoge el 25% de las casas con precios más bajos, la categoría “Intermedia” agrupa el rango central (entre el 25% y el 75%) y la categoría “Cara” se concentra en el 25% de los precios más elevados. De esta forma, se pueden comparar mejor las diferencias entre los grupos debido a la distribución de datos. \n",
    "\n",
    "8. Utilice el modelo con el conjunto de prueba y determine la eficiencia del algoritmo para\n",
    "clasificar."
   ]
  },
  {
   "cell_type": "code",
   "execution_count": null,
   "id": "147f14e7-5431-497c-8358-9fe4fabcb854",
   "metadata": {},
   "outputs": [],
   "source": [
    "columns_to_use = [ 'OverallQual', 'GrLivArea', 'GarageCars', 'TotalBsmtSF', '1stFlrSF', 'YearBuilt', 'KitchenAbvGr', 'Fireplaces' ]\n",
    "class_names = [\"Económica\", \"Intermedia\", \"Cara\"]\n",
    "\n",
    "X = df[columns_to_use]\n",
    "Y = df['CategoriaPrecio']\n",
    "\n",
    "X_train, X_test, y_train, y_test = train_test_split(X, y, test_size=0.3, random_state=42)\n",
    "\n",
    "Class_tree = DecisionTreeClassifier(random_state=42)\n",
    "\n",
    "Class_tree.fit(X_train, y_train)\n",
    "\n",
    "y_pred = Class_tree.predict(X_test)\n",
    "\n",
    "print(f\"Precisión: {accuracy_score(y_test, y_pred):.2f}\")"
   ]
  },
  {
   "cell_type": "code",
   "execution_count": null,
   "id": "787f3fd7-fe25-46a3-8c8a-39f3f7986d80",
   "metadata": {},
   "outputs": [],
   "source": [
    "dot_data = StringIO()\n",
    "export_graphviz(\n",
    "    Class_tree,\n",
    "    out_file=dot_data,\n",
    "    filled=True,\n",
    "    rounded=True,\n",
    "    special_characters=True,\n",
    "    feature_names=columns_to_use,\n",
    "    class_names=class_names\n",
    ")\n",
    "graph = pydotplus.graph_from_dot_data(dot_data.getvalue())\n",
    "graph.write_png(\"tree.png\")\n",
    "Image(graph.create_png())"
   ]
  },
  {
   "cell_type": "markdown",
   "id": "b5f60db7-6872-42eb-a75c-30a1d1be95e3",
   "metadata": {},
   "source": [
    "9. Haga un análisis de la eficiencia del algoritmo usando una matriz de confusión para el árbol\n",
    "de clasificación. Tenga en cuenta la efectividad, donde el algoritmo se equivocó más, donde\n",
    "se equivocó menos y la importancia que tienen los errores."
   ]
  },
  {
   "cell_type": "code",
   "execution_count": null,
   "id": "9e8aad0b-13d8-4ed6-bb0c-6721191b0ea1",
   "metadata": {},
   "outputs": [],
   "source": [
    "print(\"Analisis de Eficiencia con el reporte de clasificación:\")\n",
    "print(classification_report(y_test, y_pred))\n",
    "\n",
    "\n"
   ]
  },
  {
   "cell_type": "code",
   "execution_count": null,
   "id": "7a34fc40-6176-4da8-a166-4bb65ba6e614",
   "metadata": {},
   "outputs": [],
   "source": [
    "cm = confusion_matrix(y_test, y_pred)\n",
    "disp = ConfusionMatrixDisplay(confusion_matrix=cm, display_labels=Class_tree.classes_)\n",
    "disp.plot()\n",
    "plt.show()"
   ]
  },
  {
   "cell_type": "markdown",
   "id": "f3d2f9e0-1bdf-486b-8b4a-f4c2c1323f2f",
   "metadata": {},
   "source": [
    "El arbol de clasificación logra una precisión global de 0.73, lo que indica un desempeño razonable en la categorización de las casas. Observando la matriz de confusión, se ve que la mayor parte de los errores provienen de confundir la categoría “Intermedia” tanto con “Económica” como con “Cara”. Es decir, varias casas realmente “Intermedias” son clasificadas como “Económicas” o “Caras”, y viceversa en menor medida. No obstante, la categoría “Cara” presenta buena precisión (0.81), aunque su recall algo menor (0.75) implica que algunas propiedades costosas se etiquetan como “Intermedias”. En el caso de “Económica”, los errores también se concentran al confundirla con “Intermedia”, lo que sugiere que la frontera entre precios bajos y medios puede no estar totalmente clara con los atributos utilizados. Estos fallos pueden impactar el análisis al subestimar o sobrestimar el valor de ciertas casas, por lo que se podria mejorar verificando que variables remover o añadir para mejorar el rendimiento de predicción.  "
   ]
  },
  {
   "cell_type": "markdown",
   "id": "d99fb88c-5b2a-4fe0-9606-01d3a388b148",
   "metadata": {},
   "source": [
    "10. Entrene un modelo usando validación cruzada, prediga con él. ¿le fue mejor que al modelo\n",
    "anterior?"
   ]
  },
  {
   "cell_type": "code",
   "execution_count": null,
   "id": "a8cf9730-30c6-494f-a3fb-a74f1b3b1e5a",
   "metadata": {},
   "outputs": [],
   "source": [
    "clf_cv = DecisionTreeClassifier(random_state=42)\n",
    "\n",
    "scores = cross_val_score(clf_cv, X, Y, cv=5, scoring='accuracy')\n",
    "print(f\"Puntajes obtenidos en cada fold: {scores}\")\n",
    "print(f\"Precisión media (CV=5): {scores.mean():.2f}\")\n",
    "\n",
    "y_pred_cv = cross_val_predict(clf_cv, X, Y, cv=5)"
   ]
  },
  {
   "cell_type": "markdown",
   "id": "4da30c00-c5aa-4c15-9cca-ce7d8d29340a",
   "metadata": {},
   "source": [
    "La validación cruzada arrojó una precisión media de 0.76, ligeramente superior a la del modelo anterior (0.73). Esto indica que, en promedio, el árbol de decisión generaliza un poco mejor cuando se evalúa con varias particiones de los datos en lugar de usar solo un único conjunto de entrenamiento y prueba. La diferencia se debe a que, en la validación cruzada, el modelo se entrena y evalúa repetidamente en distintos subconjuntos, lo que reduce la posibilidad de que un resultado quede sesgado por la selección específica de un solo conjunto de entrenamiento y prueba. Por tanto, sí le fue mejor que al modelo anterior bajo este método de evaluación."
   ]
  },
  {
   "cell_type": "markdown",
   "id": "77a42038-5a50-4774-afbd-fea4047e3ff0",
   "metadata": {},
   "source": [
    "11. Haga al menos, 3 modelos más, cambiando la profundidad del árbol. ¿Cuál funcionó mejor?"
   ]
  },
  {
   "cell_type": "code",
   "execution_count": null,
   "id": "30a30e46-e0d4-4683-9bd8-f01dc719a679",
   "metadata": {},
   "outputs": [],
   "source": [
    "# Ejemplos de modelos con distintas profundidades\n",
    "model_depth3 = DecisionTreeClassifier(max_depth=3, random_state=42)\n",
    "model_depth5 = DecisionTreeClassifier(max_depth=5, random_state=42)\n",
    "model_depth7 = DecisionTreeClassifier(max_depth=7, random_state=42)\n",
    "\n",
    "for model in [model_depth3, model_depth5, model_depth7]:\n",
    "    scores = cross_val_score(model, X, y, cv=5, scoring='accuracy')\n",
    "    print(f\"Modelo con max_depth={model.max_depth}\")\n",
    "    print(f\"  Exactitud en cada fold: {scores}\")\n",
    "    print(f\"  Precisión media (CV=5): {scores.mean():.2f}\\n\")"
   ]
  },
  {
   "cell_type": "code",
   "execution_count": null,
   "id": "b2c4e397-d076-4277-bb6d-eed0a7c2ad8f",
   "metadata": {},
   "outputs": [],
   "source": [
    "depths = [3, 5, 7]\n",
    "for depth in depths:\n",
    "    model = DecisionTreeClassifier(max_depth=depth, random_state=42)\n",
    "    model.fit(X_train, y_train)\n",
    "    y_pred = model.predict(X_test)\n",
    "    accuracy = accuracy_score(y_test, y_pred)\n",
    "    \n",
    "    print(f\"Profundidad máxima = {depth}: Exactitud en test = {accuracy:.2f}\")"
   ]
  },
  {
   "cell_type": "markdown",
   "id": "855bada7-66dc-4a06-8396-baed7e5834fe",
   "metadata": {},
   "source": [
    "En la validación cruzada, la precisión media va aumentando conforme crece la profundidad (0.73 con max_depth=3, 0.76 con max_depth=5 y 0.77 con max_depth=7), lo que sugiere que un árbol más profundo puede capturar mejor la complejidad de los datos. Sin embargo, al evaluar en el conjunto de prueba, el árbol con max_depth=5 alcanzó la mejor exactitud (0.77), mientras que el de max_depth=7 quedó ligeramente por debajo (0.76). Esto indica que, si bien aumentar la profundidad puede mejorar la capacidad de aprendizaje, un árbol demasiado profundo tiende a sobreajustar y no siempre obtiene el mejor rendimiento al generalizar en datos nuevos. Por tanto, el modelo con max_depth=5 se perfila como el más equilibrado entre ajuste y generalización."
   ]
  },
  {
   "cell_type": "markdown",
   "id": "d0f793e6-1f0d-4d7a-a679-5699dbc86451",
   "metadata": {},
   "source": [
    "12. Repita los análisis usando random forest como algoritmo de predicción, explique sus\n",
    "resultados comparando ambos algoritmos.\n"
   ]
  },
  {
   "cell_type": "code",
   "execution_count": 71,
   "id": "45e49518-dad3-442f-8341-263224d33878",
   "metadata": {
    "scrolled": true
   },
   "outputs": [
    {
     "name": "stdout",
     "output_type": "stream",
     "text": [
      "Puntajes obtenidos en cada fold de RF: [0.81849315 0.81506849 0.8390411  0.81506849 0.82534247]\n",
      "Precisión media (CV=5) RF: 0.82\n",
      "\n",
      "Reporte de clasificación (Random Forest con CV):\n",
      "              precision    recall  f1-score   support\n",
      "\n",
      "        Cara       0.87      0.83      0.85       362\n",
      "   Económica       0.80      0.78      0.79       365\n",
      "  Intermedia       0.81      0.84      0.83       733\n",
      "\n",
      "    accuracy                           0.82      1460\n",
      "   macro avg       0.83      0.82      0.82      1460\n",
      "weighted avg       0.82      0.82      0.82      1460\n",
      "\n",
      "Precisión del Random Forest en test: 0.82\n"
     ]
    }
   ],
   "source": [
    "\n",
    "rf_model = RandomForestClassifier(n_estimators=100, random_state=42)\n",
    "\n",
    "\n",
    "scores_rf = cross_val_score(rf_model, X, y, cv=5, scoring='accuracy')\n",
    "print(f\"Puntajes obtenidos en cada fold de RF: {scores_rf}\")\n",
    "print(f\"Precisión media (CV=5) RF: {scores_rf.mean():.2f}\")\n",
    "\n",
    "\n",
    "y_pred_cv_rf = cross_val_predict(rf_model, X, y, cv=5)\n",
    "print(\"\\nReporte de clasificación (Random Forest con CV):\")\n",
    "print(classification_report(y, y_pred_cv_rf))\n",
    "\n",
    "\n",
    "\n",
    "rf_model = RandomForestClassifier(n_estimators=100, max_depth=7, random_state=42)\n",
    "rf_model.fit(X_train, y_train)\n",
    "\n",
    "\n",
    "y_pred_rf = rf_model.predict(X_test)\n",
    "acc_rf = accuracy_score(y_test, y_pred_rf)\n",
    "print(f\"Precisión del Random Forest en test: {acc_rf:.2f}\")"
   ]
  },
  {
   "cell_type": "code",
   "execution_count": null,
   "id": "4dd65ce2-f5e5-4430-944b-18f83898de30",
   "metadata": {},
   "outputs": [],
   "source": []
  }
 ],
 "metadata": {
  "kernelspec": {
   "display_name": "Python 3 (ipykernel)",
   "language": "python",
   "name": "python3"
  },
  "language_info": {
   "codemirror_mode": {
    "name": "ipython",
    "version": 3
   },
   "file_extension": ".py",
   "mimetype": "text/x-python",
   "name": "python",
   "nbconvert_exporter": "python",
   "pygments_lexer": "ipython3",
   "version": "3.10.12"
  }
 },
 "nbformat": 4,
 "nbformat_minor": 5
}
